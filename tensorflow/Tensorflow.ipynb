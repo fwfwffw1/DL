{
 "cells": [
  {
   "cell_type": "code",
   "execution_count": 1,
   "metadata": {},
   "outputs": [],
   "source": [
    "import tensorflow as tf\n",
    "import numpy as np\n",
    "import h5py\n",
    "import matplotlib.pyplot as plt\n",
    "from tensorflow.python.framework import ops\n",
    "import tf_utils\n",
    "import time\n",
    "\n",
    "%matplotlib inline\n",
    "np.random.seed(1)"
   ]
  },
  {
   "cell_type": "code",
   "execution_count": 26,
   "metadata": {},
   "outputs": [],
   "source": [
    "# 计算时间\n",
    "def subtime(date1, date2):\n",
    "    date1 = datetime.datetime.strptime(date1, \"%Y-%m-%d %H:%M:%S\")\n",
    "    date2 = datetime.datetime.strptime(date2, \"%Y-%m-%d %H:%M:%S\")\n",
    "    return date2 - date1"
   ]
  },
  {
   "cell_type": "code",
   "execution_count": 27,
   "metadata": {},
   "outputs": [
    {
     "name": "stdout",
     "output_type": "stream",
     "text": [
      "9\n"
     ]
    }
   ],
   "source": [
    "# softmax的交叉熵损失\n",
    "\n",
    "y_hat = tf.constant(36,name=\"y_hat\")\n",
    "y = tf.constant(39,name=\"y\")\n",
    "\n",
    "loss = tf.Variable((y-y_hat)**2,name = \"loss\")  \n",
    "\n",
    "init = tf.global_variables_initializer()\n",
    "\n",
    "with tf.Session() as sess:\n",
    "    sess.run(init)\n",
    "    print(sess.run(loss))\n",
    "\n"
   ]
  },
  {
   "cell_type": "code",
   "execution_count": 42,
   "metadata": {},
   "outputs": [],
   "source": [
    "def linear_function():\n",
    "    \"\"\"\n",
    "        参数：\n",
    "            无\n",
    "        \n",
    "        返回：\n",
    "            result - 通过构建的线性方程(Y = XW + b)计算出来的结果 \n",
    "        \n",
    "    \"\"\"\n",
    "    np.random.seed(1)\n",
    "    \n",
    "    # x.shape=[3,1],w.shape=[4,3],b.shape=[4,1]  \n",
    "    # x模拟输入层[特征值，样本数]，w为权重[l^(i),l^(i-1)],b为偏移量[l^(i),1]\n",
    "    \n",
    "    x = np.random.randn(3,1)\n",
    "    w = np.random.randn(4,3)\n",
    "    b = np.random.randn(4,1)\n",
    "    \n",
    "    y = tf.add(tf.matmul(w,x),b)\n",
    "    \n",
    "    with tf.Session() as sess:\n",
    "        result = sess.run(y)\n",
    "        return result"
   ]
  },
  {
   "cell_type": "code",
   "execution_count": 29,
   "metadata": {},
   "outputs": [
    {
     "name": "stdout",
     "output_type": "stream",
     "text": [
      "y= [[-2.15657382]\n",
      " [ 2.95891446]\n",
      " [-1.08926781]\n",
      " [-0.84538042]]\n"
     ]
    }
   ],
   "source": [
    "print(\"y=\",linear_function())"
   ]
  },
  {
   "cell_type": "code",
   "execution_count": 30,
   "metadata": {},
   "outputs": [],
   "source": [
    "def sigmoid(z):\n",
    "    \"\"\"\n",
    "        参数：\n",
    "            z - 用于激活的输入值\n",
    "            \n",
    "        返回：\n",
    "            result - 通过sigmoid激活后的结果\n",
    "    \n",
    "    \"\"\"\n",
    "    # 直接带入求解    \n",
    "    # z = tf.cast(z,tf.float16)\n",
    "    # sigmoid = tf.sigmoid(z)\n",
    "    # with tf.Session() as sess:\n",
    "    #      result = sess.run(sigmoid)\n",
    "    # 占位求解\n",
    "    x = tf.placeholder(tf.float32,name=\"x\")\n",
    "    sigmoid = tf.sigmoid(x)\n",
    "    with tf.Session() as sess:\n",
    "         result = sess.run(sigmoid,feed_dict={x:z})\n",
    "    \n",
    "    return result\n",
    "    "
   ]
  },
  {
   "cell_type": "code",
   "execution_count": 31,
   "metadata": {},
   "outputs": [
    {
     "name": "stdout",
     "output_type": "stream",
     "text": [
      "sigmoid(12): 0.9999938\n"
     ]
    }
   ],
   "source": [
    "print(\"sigmoid(12):\",sigmoid(12))"
   ]
  },
  {
   "cell_type": "code",
   "execution_count": 32,
   "metadata": {},
   "outputs": [],
   "source": [
    "def one(shape):\n",
    "    \"\"\"\n",
    "        参数：\n",
    "            shape - 需要生成矩阵的形状\n",
    "        \n",
    "        返回：\n",
    "            result - 生成都是1的矩阵\n",
    "    \n",
    "    \"\"\"\n",
    "    \n",
    "    matrix = tf.ones(shape)\n",
    "    with tf.Session() as sess:\n",
    "        result = sess.run(matrix)\n",
    "    return result"
   ]
  },
  {
   "cell_type": "code",
   "execution_count": 33,
   "metadata": {},
   "outputs": [
    {
     "name": "stdout",
     "output_type": "stream",
     "text": [
      "one_matrix: [[1. 1.]\n",
      " [1. 1.]\n",
      " [1. 1.]]\n"
     ]
    }
   ],
   "source": [
    "print(\"one_matrix:\",one([3,2]))"
   ]
  },
  {
   "cell_type": "markdown",
   "metadata": {},
   "source": [
    "## 加载数据"
   ]
  },
  {
   "cell_type": "code",
   "execution_count": 6,
   "metadata": {},
   "outputs": [],
   "source": [
    "X_train_orig , Y_train_orig , X_test_orig , Y_test_orig , classes = tf_utils.load_dataset()"
   ]
  },
  {
   "cell_type": "code",
   "execution_count": 35,
   "metadata": {},
   "outputs": [
    {
     "name": "stdout",
     "output_type": "stream",
     "text": [
      "x_train: (1080, 64, 64, 3)\n",
      "y_train: (1, 1080)\n",
      "x_test: (120, 64, 64, 3)\n",
      "y_test: (1, 120)\n",
      "classes: [0 1 2 3 4 5]\n"
     ]
    }
   ],
   "source": [
    "# 查看数据\n",
    "print(\"x_train:\",X_train_orig.shape)\n",
    "print(\"y_train:\",Y_train_orig.shape)\n",
    "print(\"x_test:\",X_test_orig.shape)\n",
    "print(\"y_test:\",Y_test_orig.shape)\n",
    "print(\"classes:\",classes)"
   ]
  },
  {
   "cell_type": "code",
   "execution_count": 36,
   "metadata": {},
   "outputs": [
    {
     "data": {
      "image/png": "[encoded data removed]",
      "text/plain": [
       "<Figure size 432x288 with 1 Axes>"
      ]
     },
     "metadata": {
      "needs_background": "light"
     },
     "output_type": "display_data"
    }
   ],
   "source": [
    "# 图片内容\n",
    "plt.imshow(X_train_orig[0])\n",
    "plt.show()"
   ]
  },
  {
   "cell_type": "code",
   "execution_count": 7,
   "metadata": {},
   "outputs": [],
   "source": [
    "# 将数据展开，用于tf计算\n",
    "X_train_flatten = X_train_orig.reshape([X_train_orig.shape[0],-1]).T\n",
    "X_test_flatten = X_test_orig.reshape([X_test_orig.shape[0],-1]).T\n",
    "# reshape不能乱用，特别是对于图片像素来说，需要根据每张图片的固定顺序来调整，否则会出现乱码\n",
    "\n",
    "X_train = X_train_flatten / 255\n",
    "X_test = X_test_flatten / 255\n",
    "# 转one-hot编码\n",
    "Y_train = tf_utils.convert_to_one_hot(Y_train_orig,6)\n",
    "Y_test = tf_utils.convert_to_one_hot(Y_test_orig,6)"
   ]
  },
  {
   "cell_type": "code",
   "execution_count": 38,
   "metadata": {},
   "outputs": [
    {
     "data": {
      "text/plain": [
       "array([[0., 1., 0., 0., 0., 0.],\n",
       "       [0., 0., 0., 0., 1., 0.]])"
      ]
     },
     "execution_count": 38,
     "metadata": {},
     "output_type": "execute_result"
    }
   ],
   "source": [
    "# np.eye生成对角为1的矩阵，根据（）里的决定生成个数\n",
    "np.eye(6)[[1,4]]"
   ]
  },
  {
   "cell_type": "code",
   "execution_count": 39,
   "metadata": {},
   "outputs": [
    {
     "name": "stdout",
     "output_type": "stream",
     "text": [
      "x_train: (12288, 1080)\n",
      "y_train: (6, 1080)\n",
      "x_test: (12288, 120)\n",
      "y_test: (6, 120)\n"
     ]
    }
   ],
   "source": [
    "print(\"x_train:\",X_train.shape)\n",
    "print(\"y_train:\",Y_train.shape)\n",
    "print(\"x_test:\",X_test.shape)\n",
    "print(\"y_test:\",Y_test.shape)"
   ]
  },
  {
   "cell_type": "markdown",
   "metadata": {},
   "source": [
    "## 设置模型"
   ]
  },
  {
   "cell_type": "code",
   "execution_count": 9,
   "metadata": {},
   "outputs": [],
   "source": [
    "# 初始化参数\n",
    "def initialize_params(shape_w,shape_b,num):\n",
    "    \"\"\"\n",
    "        参数：\n",
    "            shape_w - 该层的权重形状\n",
    "            shape_b - 该层的偏置形状\n",
    "            num - 层编号\n",
    "            \n",
    "        返回：\n",
    "            w - 初始化后的权重\n",
    "            b - 初始化后的偏置\n",
    "    \n",
    "    \"\"\"\n",
    "    tf.set_random_seed(1)\n",
    "    \n",
    "    w = tf.get_variable(\"W\"+str(num),shape=shape_w,initializer=tf.contrib.layers.xavier_initializer(seed=1))   \n",
    "    b = tf.get_variable(\"b\"+str(num),shape=shape_b,initializer=tf.zeros_initializer())\n",
    "    \n",
    "    return w, b    \n",
    "    "
   ]
  },
  {
   "cell_type": "code",
   "execution_count": 44,
   "metadata": {},
   "outputs": [
    {
     "name": "stdout",
     "output_type": "stream",
     "text": [
      "WARNING:tensorflow:\n",
      "The TensorFlow contrib module will not be included in TensorFlow 2.0.\n",
      "For more information, please see:\n",
      "  * https://github.com/tensorflow/community/blob/master/rfcs/20180907-contrib-sunset.md\n",
      "  * https://github.com/tensorflow/addons\n",
      "  * https://github.com/tensorflow/io (for I/O related ops)\n",
      "If you depend on functionality not listed there, please file an issue.\n",
      "\n"
     ]
    },
    {
     "data": {
      "text/plain": [
       "(<tf.Variable 'W2:0' shape=(12, 25) dtype=float32_ref>,\n",
       " <tf.Variable 'b2:0' shape=(12, 1) dtype=float32_ref>)"
      ]
     },
     "execution_count": 44,
     "metadata": {},
     "output_type": "execute_result"
    }
   ],
   "source": [
    "tf.reset_default_graph() # 用于重置全局默认图形\n",
    "W2, b2 = initialize_params([12,25],[12,1],2)\n",
    "W2,b2"
   ]
  },
  {
   "cell_type": "code",
   "execution_count": 10,
   "metadata": {},
   "outputs": [],
   "source": [
    "# 前向传播\n",
    "def forward_propagation(X):\n",
    "    \"\"\"\n",
    "        参数：\n",
    "            x - 输入的数据\n",
    "        \n",
    "        返回：\n",
    "            z3 - 最后一次线性回归之后的值\n",
    "    \n",
    "    \"\"\"\n",
    "    \n",
    "    \n",
    "    # 生成每层的变量，进行线性回归和激活\n",
    "    W1, b1 = initialize_params([25,X.shape[0]],[25,1],1)     \n",
    "    z1 = tf.add(tf.matmul(W1,X),b1)\n",
    "    a1 = tf.nn.relu(z1)\n",
    "    W2, b2 = initialize_params([12,a1.shape[0]],[12,1],2)\n",
    "    z2 = tf.add(tf.matmul(W2,a1),b2)\n",
    "    a2 = tf.nn.relu(z2)\n",
    "    W3, b3 = initialize_params([6,a2.shape[0]],[6,1],3)\n",
    "    z3 = tf.add(tf.matmul(W3,a2),b3)\n",
    "\n",
    "    return z3"
   ]
  },
  {
   "cell_type": "code",
   "execution_count": 48,
   "metadata": {},
   "outputs": [
    {
     "data": {
      "text/plain": [
       "<tf.Tensor 'Add_2:0' shape=(6, ?) dtype=float32>"
      ]
     },
     "execution_count": 48,
     "metadata": {},
     "output_type": "execute_result"
    }
   ],
   "source": [
    "tf.reset_default_graph()\n",
    "X = tf.placeholder(tf.float32,[12288,None],name = \"X\")\n",
    "z3 = forward_propagation(X)\n",
    "z3"
   ]
  },
  {
   "cell_type": "code",
   "execution_count": 11,
   "metadata": {},
   "outputs": [],
   "source": [
    "# 计算损失\n",
    "def compute_cost(zl,Y):\n",
    "    \"\"\"\n",
    "        参数：\n",
    "            zl - 最后一层线性回归后的值\n",
    "            Y - 输入数据的标签\n",
    "            \n",
    "        返回：\n",
    "            loss - 该批次所产生的损失\n",
    "            \n",
    "    \"\"\"\n",
    "    \n",
    "    # 需进行转置将形状变为【-1，class】才能调用cross_entropy\n",
    "    logits = tf.transpose(zl) #转置\n",
    "    labels = tf.transpose(Y)\n",
    "   \n",
    "    # 直接对zl进行了softmax激活，并通过交叉熵进行求损失\n",
    "    loss=tf.reduce_mean(tf.nn.softmax_cross_entropy_with_logits(labels=labels,logits=logits))\n",
    "    \n",
    "    return loss"
   ]
  },
  {
   "cell_type": "code",
   "execution_count": 49,
   "metadata": {},
   "outputs": [
    {
     "name": "stdout",
     "output_type": "stream",
     "text": [
      "WARNING:tensorflow:From <ipython-input-45-7048f5605a98>:18: softmax_cross_entropy_with_logits (from tensorflow.python.ops.nn_ops) is deprecated and will be removed in a future version.\n",
      "Instructions for updating:\n",
      "\n",
      "Future major versions of TensorFlow will allow gradients to flow\n",
      "into the labels input on backprop by default.\n",
      "\n",
      "See `tf.nn.softmax_cross_entropy_with_logits_v2`.\n",
      "\n"
     ]
    },
    {
     "data": {
      "text/plain": [
       "<tf.Tensor 'Mean:0' shape=() dtype=float32>"
      ]
     },
     "execution_count": 49,
     "metadata": {},
     "output_type": "execute_result"
    }
   ],
   "source": [
    "tf.reset_default_graph()\n",
    "X = tf.placeholder(tf.float32,[12288,None],name = \"X\")\n",
    "Y = tf.placeholder(tf.float32,[6,None],name = \"Y\")     \n",
    "z3 = forward_propagation(X)\n",
    "cost = compute_cost(z3,Y)\n",
    "cost"
   ]
  },
  {
   "cell_type": "code",
   "execution_count": null,
   "metadata": {},
   "outputs": [],
   "source": [
    "# backward propagation\n",
    "optimizer = tf.train.GradientDescentOptimizer(learning_rate=0.01).minimize(loss)"
   ]
  },
  {
   "cell_type": "code",
   "execution_count": 21,
   "metadata": {},
   "outputs": [],
   "source": [
    "# 建立模型\n",
    "def model(X_train,Y_train,X_test,Y_test,lr=0.0001,epoch=101,batch_size=32,print_cost=True,is_plt=True,for_test=False,model_path=None):\n",
    "    \"\"\"\n",
    "        参数：\n",
    "            X_train - 训练输入的数据\n",
    "            Y_train - 训练数据的标签\n",
    "            X_test - 测试的输入数据\n",
    "            Y_test - 测试数据的标签\n",
    "            lr - 学习率\n",
    "            epoch - 迭代次数\n",
    "            batch_size - 一批次的数据大小\n",
    "            print_cost - 每100次迭代打印一次损失\n",
    "            is_plt - 画损失图像\n",
    "            for_test - 用于预测\n",
    "            model_path - 加载模型的地址\n",
    "    \n",
    "    \"\"\"\n",
    "    \n",
    "    ops.reset_default_graph() #能够重新运行模型而不覆盖tf变量\n",
    "    tf.set_random_seed(1)\n",
    "    seed = 3\n",
    "    costs = []\n",
    "    \n",
    "    # 设置占位符\n",
    "    x = tf.placeholder(tf.float32,[12288,None],name = \"x\")\n",
    "    y = tf.placeholder(tf.float32,[6,None],name = \"y\")\n",
    "    # 样本数\n",
    "    m = Y_train.shape[1]\n",
    "    # forward_propagation\n",
    "    \n",
    "    zl = forward_propagation(x)\n",
    "    cost = compute_cost(zl, y)\n",
    "    \n",
    "    # backward_propagation\n",
    "    optimizer = tf.train.AdamOptimizer(learning_rate=lr).minimize(cost)\n",
    "    \n",
    "    # 计算准确率\n",
    "    correct_list = tf.equal(tf.argmax(zl,axis=0),tf.argmax(y,axis=0))\n",
    "    acc = tf.reduce_mean(tf.cast(correct_list,tf.float32))\n",
    "    #初始化所有变量\n",
    "    init = tf.global_variables_initializer()\n",
    "    \n",
    "    # 储存模型，可以直接，在当前图中加载储存的参数，且需要写出变量定义\n",
    "    model_save = tf.train.Saver()\n",
    "    with tf.Session() as sess:\n",
    "        if for_test:\n",
    "            model_save.restore(sess,model_path)\n",
    "            pre_y=sess.run(zl,feed_dict={x:X_test})\n",
    "            print(\"预测结果为：\", tf.argmax(pre_y,axis=0).eval())\n",
    "        \n",
    "        else:\n",
    "            sess.run(init)\n",
    "        \n",
    "            # 开始训练\n",
    "            for i in range(epoch):\n",
    "                # 获取批次数据,seed用于每次迭代打乱数据\n",
    "                seed = seed + 1\n",
    "                minibatches = tf_utils.random_mini_batches(X_train,Y_train,batch_size,seed)\n",
    "                num_minibatches = int(m / batch_size)\n",
    "                # 每一代的误差\n",
    "                epoch_cost = 0\n",
    "\n",
    "                for j in minibatches:\n",
    "                    # j 是其中一个batch包含（minibatch_x,minibatch_y）\n",
    "                    _, batch_cost = sess.run([optimizer,cost],feed_dict={x:j[0],y:j[1]})\n",
    "                    epoch_cost = epoch_cost + batch_cost / num_minibatches\n",
    "\n",
    "                if i % 10 ==0:\n",
    "                    costs.append(epoch_cost)\n",
    "                    if print_cost and i % 100 == 0:\n",
    "                        print(\"第\"+str(i)+\"次epoch\"+\": epoch_cost= %f, epoch_acc= %f\"%(epoch_cost, acc.eval(feed_dict={x:X_train,y:Y_train})))\n",
    "\n",
    "            model_save.save(sess,\"my_model\")\n",
    "            if is_plt:\n",
    "                plt.plot(costs)\n",
    "                plt.ylabel('cost')\n",
    "                plt.xlabel('epoch (per 10)')\n",
    "                plt.title(\"Learning rate =\" + str(lr))\n",
    "                plt.show()\n",
    "\n",
    "            print(\"最终训练集的准确率：\", acc.eval({x:X_train,y:Y_train}))\n",
    "            print(\"最终测试集的准确率:\", acc.eval({x: X_test, y: Y_test}))"
   ]
  },
  {
   "cell_type": "code",
   "execution_count": 184,
   "metadata": {},
   "outputs": [
    {
     "name": "stdout",
     "output_type": "stream",
     "text": [
      "第0次epoch: epoch_cost= 1.855702, epoch_acc= 0.166667\n",
      "第100次epoch: epoch_cost= 1.017255, epoch_acc= 0.633333\n",
      "第200次epoch: epoch_cost= 0.733184, epoch_acc= 0.789815\n",
      "第300次epoch: epoch_cost= 0.573071, epoch_acc= 0.833333\n",
      "第400次epoch: epoch_cost= 0.468573, epoch_acc= 0.875000\n",
      "第500次epoch: epoch_cost= 0.381228, epoch_acc= 0.907407\n",
      "第600次epoch: epoch_cost= 0.313815, epoch_acc= 0.885185\n",
      "第700次epoch: epoch_cost= 0.253624, epoch_acc= 0.947222\n",
      "第800次epoch: epoch_cost= 0.203897, epoch_acc= 0.966667\n",
      "第900次epoch: epoch_cost= 0.166472, epoch_acc= 0.974074\n",
      "第1000次epoch: epoch_cost= 0.146867, epoch_acc= 0.972222\n",
      "第1100次epoch: epoch_cost= 0.107288, epoch_acc= 0.991667\n",
      "第1200次epoch: epoch_cost= 0.086557, epoch_acc= 0.987963\n",
      "第1300次epoch: epoch_cost= 0.059360, epoch_acc= 0.997222\n",
      "第1400次epoch: epoch_cost= 0.052275, epoch_acc= 0.998148\n"
     ]
    },
    {
     "data": {
      "image/png": "[encoded data removed]",
      "text/plain": [
       "<Figure size 432x288 with 1 Axes>"
      ]
     },
     "metadata": {
      "needs_background": "light"
     },
     "output_type": "display_data"
    },
    {
     "name": "stdout",
     "output_type": "stream",
     "text": [
      "最终训练集的准确率： 0.9990741\n",
      "最终测试集的准确率: 0.725\n",
      "CPU运行时间： 0:07:47\n"
     ]
    }
   ],
   "source": [
    "import datetime\n",
    "# 开始时间\n",
    "start=datetime.datetime.now()\n",
    "start=start.strftime(\"%Y-%m-%d %H:%M:%S\")\n",
    "# 训练\n",
    "model(X_train, Y_train, X_test, Y_test)\n",
    "# 结束时间\n",
    "end=datetime.datetime.now()\n",
    "end=end.strftime(\"%Y-%m-%d %H:%M:%S\")\n",
    "\n",
    "print(\"CPU运行时间：\", subtime(start,end))"
   ]
  },
  {
   "cell_type": "code",
   "execution_count": 22,
   "metadata": {},
   "outputs": [
    {
     "name": "stdout",
     "output_type": "stream",
     "text": [
      "INFO:tensorflow:Restoring parameters from ./model/\n",
      "预测结果为： [5]\n"
     ]
    },
    {
     "data": {
      "image/png": "[encoded data removed]",
      "text/plain": [
       "<Figure size 432x288 with 1 Axes>"
      ]
     },
     "metadata": {
      "needs_background": "light"
     },
     "output_type": "display_data"
    }
   ],
   "source": [
    "#加载测试数据\n",
    "import matplotlib.image as mpimg # mpimg 用于读取图片\n",
    "import os\n",
    "my_image1 = \"5.png\"                                            #定义图片名称\n",
    "fileName1 = \"datasets/fingers/\" + my_image1                      #图片地址\n",
    "image1 = mpimg.imread(fileName1)                               #读取图片\n",
    "plt.imshow(image1)                                             #显示图片\n",
    "my_image1 = image1.reshape(1,64 * 64 * 3).T     \n",
    "# 加载模型,\n",
    "model(X_train, Y_train, my_image1, Y_test,for_test=True,model_path=\"./model/\")\n"
   ]
  }
 ],
 "metadata": {
  "kernelspec": {
   "display_name": "learn",
   "language": "python",
   "name": "learn"
  },
  "language_info": {
   "codemirror_mode": {
    "name": "ipython",
    "version": 3
   },
   "file_extension": ".py",
   "mimetype": "text/x-python",
   "name": "python",
   "nbconvert_exporter": "python",
   "pygments_lexer": "ipython3",
   "version": "3.6.3"
  }
 },
 "nbformat": 4,
 "nbformat_minor": 4
}
