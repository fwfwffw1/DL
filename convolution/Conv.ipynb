{
 "cells": [
  {
   "cell_type": "code",
   "execution_count": 3,
   "metadata": {},
   "outputs": [],
   "source": [
    "import numpy as np\n",
    "import h5py\n",
    "import matplotlib.pyplot as plt\n",
    "\n",
    "%matplotlib inline\n",
    "plt.rcParams['figure.figsize'] = (5.0, 4.0) \n",
    "plt.rcParams['image.interpolation'] = 'nearest'\n",
    "plt.rcParams['image.cmap'] = 'gray'\n",
    "\n",
    "%load_ext autoreload\n",
    "#autoreload 2：装入所有 %aimport 不包含的模块。\n",
    "%autoreload 2          \n",
    "\n",
    "np.random.seed(1)\n"
   ]
  },
  {
   "cell_type": "code",
   "execution_count": 11,
   "metadata": {},
   "outputs": [
    {
     "name": "stdout",
     "output_type": "stream",
     "text": [
      "(3, 3)\n",
      "填充后的值：\n",
      " [[0 0 0 0 0]\n",
      " [0 0 0 0 0]\n",
      " [0 1 2 3 0]\n",
      " [0 4 5 6 0]\n",
      " [0 7 8 9 0]\n",
      " [0 0 0 0 0]\n",
      " [0 0 0 0 0]]\n"
     ]
    }
   ],
   "source": [
    "# 使用np.pad函数\n",
    "a = np.array([[1,2,3],[4,5,6],[7,8,9]])\n",
    "print(a.shape)\n",
    "b = np.pad(a,((2, 2), (1, 1)),\"constant\")\n",
    "print(\"填充后的值：\\n\", b)\n",
    "\n",
    "# pad里的元组（（），（））是对应原函数的维度来说的，元组第一维表示第一维，以此类推，比如（（x，y））就是\n",
    "# 在第一维前后或上下填x和y个0."
   ]
  },
  {
   "cell_type": "markdown",
   "metadata": {},
   "source": [
    "## 前向传播"
   ]
  },
  {
   "cell_type": "markdown",
   "metadata": {},
   "source": [
    "### 卷积前向传播"
   ]
  },
  {
   "cell_type": "code",
   "execution_count": 19,
   "metadata": {},
   "outputs": [],
   "source": [
    "# 零填充\n",
    "def zero_pad(X,pad):\n",
    "    \n",
    "    \"\"\"\n",
    "        参数：\n",
    "            X - 为一个四维的图像数据，包括（批次数，高，长，通道）\n",
    "            pad - 选择填充的0的个数\n",
    "        \n",
    "        返回：\n",
    "            after_pad - 填充后的图片数据\n",
    "    \"\"\"\n",
    "    \n",
    "    after_pad = np.pad(X,(\n",
    "                      (0,0),#批次之间不填充\n",
    "                      (pad,pad),#图像的高填充\n",
    "                      (pad,pad),#图像的宽填充\n",
    "                      (0,0),),\n",
    "                      \"constant\")# 通道数之间不填充\n",
    "    \n",
    "    return after_pad"
   ]
  },
  {
   "cell_type": "code",
   "execution_count": 22,
   "metadata": {},
   "outputs": [
    {
     "name": "stdout",
     "output_type": "stream",
     "text": [
      "x.shape = (4, 3, 3, 2)\n",
      "x_paded.shape = (4, 7, 7, 2)\n",
      "x[1, 1] = [[ 0.90085595 -0.68372786]\n",
      " [-0.12289023 -0.93576943]\n",
      " [-0.26788808  0.53035547]]\n",
      "x_paded[1, 1] = [[0. 0.]\n",
      " [0. 0.]\n",
      " [0. 0.]\n",
      " [0. 0.]\n",
      " [0. 0.]\n",
      " [0. 0.]\n",
      " [0. 0.]]\n"
     ]
    },
    {
     "data": {
      "text/plain": [
       "<matplotlib.image.AxesImage at 0x1e82535c470>"
      ]
     },
     "execution_count": 22,
     "metadata": {},
     "output_type": "execute_result"
    },
    {
     "data": {
      "image/png": "[encoded data removed]",
      "text/plain": [
       "<Figure size 360x288 with 2 Axes>"
      ]
     },
     "metadata": {
      "needs_background": "light"
     },
     "output_type": "display_data"
    }
   ],
   "source": [
    "#测试\n",
    "np.random.seed(1)\n",
    "x = np.random.randn(4,3,3,2)\n",
    "x_paded = zero_pad(x,2)\n",
    "#查看信息\n",
    "print (\"x.shape =\", x.shape)\n",
    "print (\"x_paded.shape =\", x_paded.shape)\n",
    "print (\"x[1, 1] =\", x[1, 1])\n",
    "print (\"x_paded[1, 1] =\", x_paded[1, 1])\n",
    "\n",
    "#绘制图\n",
    "fig , axarr = plt.subplots(1,2)  #一行两列\n",
    "axarr[0].set_title('x')\n",
    "axarr[0].imshow(x[0,:,:,0])\n",
    "axarr[1].set_title('x_paded')\n",
    "axarr[1].imshow(x_paded[0,:,:,0])\n",
    "# 图为1张3*3的1通道的图"
   ]
  },
  {
   "cell_type": "code",
   "execution_count": 27,
   "metadata": {},
   "outputs": [],
   "source": [
    "# 实现滤波器\n",
    "def conv_single_step(X,w,b):\n",
    "    \"\"\"\n",
    "        先将滤波器与图片像素进行点乘，并添加一个偏置，之后将各个更新后的像素值进行相加\n",
    "        参数：\n",
    "            X - 一个图片中的一部份与滤波器同样大小的图块切片\n",
    "            w - 滤波器的权重\n",
    "            b - 滤波器的偏置\n",
    "        \n",
    "        返回：\n",
    "            z - 图块经过滤波后所生成的单个特征值\n",
    "    \"\"\"\n",
    "    s = np.multiply(X, w) + b\n",
    "    z = np.sum(s)\n",
    "    return z"
   ]
  },
  {
   "cell_type": "code",
   "execution_count": 28,
   "metadata": {},
   "outputs": [
    {
     "name": "stdout",
     "output_type": "stream",
     "text": [
      "Z = -23.16021220252078\n"
     ]
    }
   ],
   "source": [
    "np.random.seed(1)\n",
    "\n",
    "#这里切片大小和过滤器大小相同\n",
    "a_slice_prev = np.random.randn(4,4,3)\n",
    "W = np.random.randn(4,4,3)\n",
    "b = np.random.randn(1,1,1)\n",
    "\n",
    "Z = conv_single_step(a_slice_prev,W,b)\n",
    "\n",
    "print(\"Z = \" + str(Z))"
   ]
  },
  {
   "cell_type": "code",
   "execution_count": 57,
   "metadata": {},
   "outputs": [],
   "source": [
    "# 卷积函数前向传播\n",
    "def conv_forward(A_prev, W, b, hparameters):\n",
    "    \"\"\"\n",
    "        参数：\n",
    "            A_prev - 上一层激活后的参数维度为（m,h,w,c）分别代表样本数，图片高度，图片宽度，以及通道数   \n",
    "            W - 过滤器的权重维度为（fh,fw,c_prev,n_c）分别为滤波器的宽，滤波器的长，上一层的通道数，本层的通道数或本层滤波器的个数\n",
    "            b - 过滤器的偏置维度为（1，1，1, n_c）每个过滤器都有一个偏置\n",
    "            hparameters - pad所需的步长，以及padding的个数\n",
    "        \n",
    "        返回：\n",
    "            Z - 卷积后的特征图（m，n_h, n_w, n_c）分别为样本数，本层的高，本层的宽，本层的通道数或滤波器数量\n",
    "            cache - 用于反向传播的一些参数\n",
    "    \"\"\"\n",
    "    stride = hparameters[\"stride\"]\n",
    "    pad = hparameters[\"pad\"]\n",
    "    \n",
    "    # 获得padding后的图像\n",
    "    A_prev_pad = zero_pad(A_prev,pad)\n",
    "    \n",
    "    # 初始化当前层的输出\n",
    "    m, prev_h, prev_w, prev_c = A_prev.shape\n",
    "    f_h, f_w, pre_c, n_c = W.shape\n",
    "        # 计算当前层输出的长宽,通过int向下取整\n",
    "    n_h = int((prev_h + 2 * pad - f_h) / stride) + 1\n",
    "    n_w = int((prev_w + 2 * pad - f_w) / stride) + 1\n",
    "        # 初始化\n",
    "    Z = np.zeros((m, n_h, n_w, n_c))\n",
    "    \n",
    "    # 开始进行卷积\n",
    "    for i in range(m):\n",
    "        a_prev_pad = A_prev_pad[i]\n",
    "        for h in range(n_h):\n",
    "            for w in range(n_w):\n",
    "                for c in range(n_c):\n",
    "                    # 找切片中的位置\n",
    "                    cut_h_start = h * stride\n",
    "                    cut_h_end = cut_h_start + f_h\n",
    "                    cut_w_start = w * stride\n",
    "                    cut_w_end =  cut_w_start + f_w\n",
    "                    # 提取切片信息\n",
    "                    # 每次pooling都是进行的立方体块即多张图块的运行，是多张图块的权重与多张图片进行点乘\n",
    "                    x = a_prev_pad[cut_h_start : cut_h_end,\n",
    "                                  cut_w_start : cut_w_end,\n",
    "                                  :]\n",
    "                    # 当前这个过滤器中的高与宽\n",
    "                    Z[i,h,w,c] = conv_single_strp(x, W[:, :, :, c], b[0, 0, 0, c])\n",
    "                    \n",
    "    # 验证数据格式\n",
    "    assert(Z.shape == (m, n_h,n_w,n_c))\n",
    "                    \n",
    "    # 用于反向传播使用\n",
    "    cache = (A_prev, W, b, hparameters)\n",
    "    return Z, cache"
   ]
  },
  {
   "cell_type": "code",
   "execution_count": 58,
   "metadata": {},
   "outputs": [
    {
     "name": "stdout",
     "output_type": "stream",
     "text": [
      "np.mean(Z) =  0.15585932488906465\n",
      "cache_conv[0][1][2][3] = [-0.20075807  0.18656139  0.41005165]\n"
     ]
    }
   ],
   "source": [
    "# 测试\n",
    "np.random.seed(1)\n",
    "\n",
    "A_prev = np.random.randn(10,4,4,3)\n",
    "W = np.random.randn(2,2,3,8)\n",
    "b = np.random.randn(1,1,1,8)\n",
    "\n",
    "hparameters = {\"pad\" : 2, \"stride\": 1}\n",
    "\n",
    "Z , cache_conv = conv_forward(A_prev,W,b,hparameters)\n",
    "\n",
    "print(\"np.mean(Z) = \", np.mean(Z))\n",
    "print(\"cache_conv[0][1][2][3] =\", cache_conv[0][1][2][3])\n"
   ]
  },
  {
   "cell_type": "markdown",
   "metadata": {},
   "source": [
    "### 池化层前向传播"
   ]
  },
  {
   "cell_type": "code",
   "execution_count": 97,
   "metadata": {},
   "outputs": [],
   "source": [
    "# 池化层\n",
    "def pool_forward(A_prev, hparameters, mode=\"max\"):\n",
    "    \"\"\"\n",
    "        参数：\n",
    "            A_prev - 上一层激活后的参数维度为（m,h,w,c）分别代表样本数，图片高度，图片宽度，以及通道数   \n",
    "            hparameters - pooling所需的步长stride，以及size f\n",
    "            model - 模型选择[\"max\"|\"average\"]\n",
    "        \n",
    "        返回：\n",
    "            A - 池化后的输出，维度为(m,n_h,n_w,n_c)\n",
    "            cache - 用于反向传播的一些参数\n",
    "    \"\"\"\n",
    "    \n",
    "    m, prev_h, prev_w, prev_c = A_prev.shape\n",
    "    f = hparameters[\"f\"]\n",
    "    stride = hparameters[\"stride\"]\n",
    "    \n",
    "    # pooling 后的值\n",
    "    n_h = int((prev_h - f)/ stride + 1)\n",
    "    n_w = int((prev_w - f)/ stride + 1)\n",
    "    \n",
    "    # 初始化结果矩阵\n",
    "    A = np.zeros((m, n_h, n_w, prev_c))\n",
    "    for i in range(m):\n",
    "        a_prev = A_prev[i]\n",
    "        for h in range(n_h):\n",
    "            for w in range(n_w):\n",
    "                for c in range(prev_c):\n",
    "                    # 确定切块\n",
    "                    cut_h_start = h * stride    #竖向开始\n",
    "                    cut_h_end = cut_h_start + f #竖向结束\n",
    "                    cut_w_start = w * stride    #横向开始\n",
    "                    cut_w_end = cut_w_start + f #横向结束\n",
    "                    \n",
    "                    # 一张一张的进行pooling，max计算的是每一张图上的最大值，而不是一个立方体中的最大值即多张图\n",
    "                    x = a_prev[cut_h_start : cut_h_end,\n",
    "                                  cut_w_start : cut_w_end,\n",
    "                                  c]\n",
    "                    \n",
    "                    # 计算该色块的最大值\n",
    "                    if mode == \"max\":\n",
    "                        A[i, h, w, c] = np.max(x)\n",
    "                    # 计算该色块的平均值\n",
    "                    if mode == \"average\":\n",
    "                        A[i, h, w, c] = np.mean(x)\n",
    "\n",
    "    assert(A.shape == (m, n_h, n_w, prev_c))\n",
    "    cache = (A_prev, hparameters)\n",
    "    \n",
    "    return A, cache"
   ]
  },
  {
   "cell_type": "code",
   "execution_count": 79,
   "metadata": {},
   "outputs": [
    {
     "name": "stdout",
     "output_type": "stream",
     "text": [
      "mode = max\n",
      "A = [[[[1.74481176 1.6924546  2.10025514]]]\n",
      "\n",
      "\n",
      " [[[1.19891788 1.51981682 2.18557541]]]]\n",
      "----------------------------\n",
      "mode = average\n",
      "A = [[[[-0.09498456  0.11180064 -0.14263511]]]\n",
      "\n",
      "\n",
      " [[[-0.09525108  0.28325018  0.33035185]]]]\n"
     ]
    }
   ],
   "source": [
    "# 测试\n",
    "np.random.seed(1)\n",
    "A_prev = np.random.randn(2,4,4,3)\n",
    "hparameters = {\"f\":4 , \"stride\":1}\n",
    "\n",
    "A , cache = pool_forward(A_prev,hparameters,mode=\"max\")\n",
    "\n",
    "print(\"mode = max\")\n",
    "print(\"A =\", A)\n",
    "print(\"----------------------------\")\n",
    "A, cache = pool_forward(A_prev, hparameters, mode = \"average\")\n",
    "print(\"mode = average\")\n",
    "print(\"A =\", A)"
   ]
  },
  {
   "cell_type": "markdown",
   "metadata": {},
   "source": [
    "## 反向传播"
   ]
  },
  {
   "cell_type": "markdown",
   "metadata": {},
   "source": [
    "### 卷积层的反向传播"
   ]
  },
  {
   "cell_type": "code",
   "execution_count": 82,
   "metadata": {},
   "outputs": [],
   "source": [
    "def conv_backward(dZ,cache):\n",
    "    \"\"\"\n",
    "        卷积层的反向传播\n",
    "        参数：\n",
    "            dZ - 卷积层的输出（Z）的梯度，维度为（m，n_h, n_w, n_c）\n",
    "            cache - 暂时存储的反向传播的所需参数\n",
    "        \n",
    "        返回：\n",
    "            dA_prev - 卷积层输入（A_prev）的梯度，维度为（m，prev_h, prec_w, prev_c）\n",
    "            dW - 卷积层过滤器权重的梯度维度为（f_h, f_w, prev_c, n_c）\n",
    "            db - 卷积层过滤器偏置的梯度维度为（1，1，1，n_c）\n",
    "            \n",
    "    \"\"\"\n",
    "    # 获取cache的值\n",
    "    A_prev, W, b, hparameters = cache\n",
    "    \n",
    "    m, prev_h, prev_w, prev_c = A_prev.shape\n",
    "    \n",
    "    m, n_h, n_w, n_c = dZ.shape\n",
    "    \n",
    "    f_h, f_w, prev_c, n_c = W.shape\n",
    "    \n",
    "    pad = hparameters[\"pad\"]\n",
    "    \n",
    "    stride = hparameters[\"stride\"]\n",
    "    \n",
    "    dA_prev = np.zeros((m, prev_h, prev_w, prev_c))\n",
    "    dW = np.zeros((f_h, f_w, prev_c, n_c))\n",
    "    db = np.zeros((1, 1, 1, n_c))\n",
    "    \n",
    "    #前向传播中我们使用了pad，反向传播也需要使用，这是为了保证数据结构一致\n",
    "    A_prev_pad = zero_pad(A_prev,pad)\n",
    "    dA_prev_pad = zero_pad(dA_prev,pad)\n",
    "    \n",
    "    # 处理数据\n",
    "    for i in range(m):\n",
    "        # 选择其中一个样本\n",
    "        a_prev_pad = A_prev_pad[i]\n",
    "        # 同样生成该样本的梯度\n",
    "        da_prev_pad = dA_prev_pad[i]\n",
    "        \n",
    "        for h in range(n_h):\n",
    "            for w in range(n_w):\n",
    "                for c in range(n_c):\n",
    "                 # 确定切块\n",
    "                    cut_h_start = h * stride      #竖向开始\n",
    "                    cut_h_end = cut_h_start + f_h #竖向结束\n",
    "                    cut_w_start = w * stride      #横向开始\n",
    "                    cut_w_end = cut_w_start + f_w #横向结束\n",
    "                    \n",
    "                    a_slice = a_prev_pad[cut_h_start : cut_h_end,\n",
    "                                  cut_w_start : cut_w_end,\n",
    "                                  :]\n",
    "                    \n",
    "                    # 计算dA_prev,也就是下一层的dz，相当于dl的dA_pre\n",
    "                    # 这一批过滤器（视频中的立方体）所对应的da_prev_pad\n",
    "                    da_prev_pad[cut_h_start : cut_h_end,\n",
    "                                  cut_w_start : cut_w_end,\n",
    "                                  :] += W[:, :, :, c] * dZ[i, h, w, c]\n",
    "                    \n",
    "                    # 这一批的w和h\n",
    "                    dW[:, :, :, c] += a_slice * dZ[i, h, w, c]\n",
    "                    db[0, 0, 0, c] += dZ[i, h, w, c]\n",
    "        \n",
    "        # 该样本的最终dA_prev\n",
    "        dA_prev[i, :, :, :] = da_prev_pad[pad : -pad, pad : -pad,: ]\n",
    "        \n",
    "    assert(dA_prev.shape == (m, prev_h, prev_w, prev_c))\n",
    "    \n",
    "    return dA_prev, dW, db\n",
    "                    "
   ]
  },
  {
   "cell_type": "code",
   "execution_count": 83,
   "metadata": {},
   "outputs": [
    {
     "name": "stdout",
     "output_type": "stream",
     "text": [
      "dA_mean = 9.608990675868995\n",
      "dW_mean = 10.581741275547566\n",
      "db_mean = 76.37106919563735\n"
     ]
    }
   ],
   "source": [
    "np.random.seed(1)\n",
    "#初始化参数\n",
    "A_prev = np.random.randn(10,4,4,3)\n",
    "W = np.random.randn(2,2,3,8)\n",
    "b = np.random.randn(1,1,1,8)\n",
    "hparameters = {\"pad\" : 2, \"stride\": 1}\n",
    "\n",
    "#前向传播\n",
    "Z , cache_conv = conv_forward(A_prev,W,b,hparameters)\n",
    "#反向传播\n",
    "dA , dW , db = conv_backward(Z,cache_conv)\n",
    "print(\"dA_mean =\", np.mean(dA))\n",
    "print(\"dW_mean =\", np.mean(dW))\n",
    "print(\"db_mean =\", np.mean(db))\n"
   ]
  },
  {
   "cell_type": "markdown",
   "metadata": {},
   "source": [
    "### 池化层反向传播"
   ]
  },
  {
   "cell_type": "markdown",
   "metadata": {},
   "source": [
    "#### 最大值池化"
   ]
  },
  {
   "cell_type": "code",
   "execution_count": 85,
   "metadata": {},
   "outputs": [],
   "source": [
    "def create_mask_from_window(x):\n",
    "    \"\"\"\n",
    "        从输入矩阵中创建掩码，以保存最大值的矩阵的位置。\n",
    "    \n",
    "        参数：\n",
    "            x - 一个维度为(f,f)的矩阵\n",
    "\n",
    "        返回：\n",
    "            mask - 包含x的最大值的位置的矩阵\n",
    "    \"\"\"\n",
    "    mask = x == np.max(x)\n",
    "    \n",
    "    return mask\n"
   ]
  },
  {
   "cell_type": "code",
   "execution_count": 86,
   "metadata": {},
   "outputs": [
    {
     "name": "stdout",
     "output_type": "stream",
     "text": [
      "x = [[ 1.62434536 -0.61175641 -0.52817175]\n",
      " [-1.07296862  0.86540763 -2.3015387 ]]\n",
      "mask = [[ True False False]\n",
      " [False False False]]\n"
     ]
    }
   ],
   "source": [
    "# 测试\n",
    "np.random.seed(1)\n",
    "\n",
    "x = np.random.randn(2,3)\n",
    "\n",
    "mask = create_mask_from_window(x)\n",
    "\n",
    "print(\"x = \" + str(x)) \n",
    "print(\"mask = \" + str(mask))"
   ]
  },
  {
   "cell_type": "markdown",
   "metadata": {},
   "source": [
    "#### 平均值池化"
   ]
  },
  {
   "cell_type": "code",
   "execution_count": 93,
   "metadata": {},
   "outputs": [],
   "source": [
    "def distribute_value(dz, shape):\n",
    "    \"\"\"\n",
    "        给定一个值，为按矩阵大小平均分配到每一个矩阵位置中。\n",
    "\n",
    "        参数：\n",
    "            dz - 输入的实数\n",
    "            shape - 元组，两个值，分别为n_H , n_W\n",
    "\n",
    "        返回：\n",
    "            a - 已经分配好了值的矩阵，里面的值全部一样。\n",
    "    \"\"\"\n",
    "    \n",
    "    w_h, w_w = shape\n",
    "    \n",
    "    average = dz / (w_h * w_w)\n",
    "    \n",
    "    a = np.ones(shape) * average\n",
    "    \n",
    "    return a"
   ]
  },
  {
   "cell_type": "code",
   "execution_count": 94,
   "metadata": {},
   "outputs": [
    {
     "name": "stdout",
     "output_type": "stream",
     "text": [
      "a = [[0.5 0.5]\n",
      " [0.5 0.5]]\n"
     ]
    }
   ],
   "source": [
    "# 测试\n",
    "dz = 2\n",
    "shape = (2,2)\n",
    "\n",
    "a = distribute_value(dz,shape)\n",
    "print(\"a = \" + str(a))"
   ]
  },
  {
   "cell_type": "code",
   "execution_count": 104,
   "metadata": {},
   "outputs": [],
   "source": [
    "# 反向传播\n",
    "def pool_backward(dA,cache,mode = \"max\"):\n",
    "    \"\"\"\n",
    "        参数：\n",
    "            dA - 池化层输出值的梯度\n",
    "            cache - 从前向传递存储的用来反向传播的参数\n",
    "            mode - pooling所用到的模式\n",
    "        \n",
    "        返回：\n",
    "            dA_prev - 池化层输入值的梯度\n",
    "    \"\"\"\n",
    "    \n",
    "    A_prev, hparameters = cache\n",
    "    \n",
    "    # pooling层的过滤器的大小f，步长stride\n",
    "    f = hparameters[\"f\"]\n",
    "    stride = hparameters[\"stride\"]\n",
    "    \n",
    "    m, prev_h, prev_w, prev_c = A_prev.shape\n",
    "    m, n_h, n_w, n_c = dA.shape\n",
    "    \n",
    "    dA_prev = np.zeros_like(A_prev)\n",
    "    \n",
    "    # 处理数据\n",
    "    for i in range(m):\n",
    "        for h in range(n_h):\n",
    "            for w in range(n_w):\n",
    "                for c in range(n_c):\n",
    "                    # 确定切块\n",
    "                    cut_h_start = h * stride      #竖向开始\n",
    "                    cut_h_end = cut_h_start + f #竖向结束\n",
    "                    cut_w_start = w * stride      #横向开始\n",
    "                    cut_w_end = cut_w_start + f #横向结束\n",
    "                    \n",
    "                    a_slice = A_prev[i, cut_h_start : cut_h_end,\n",
    "                                  cut_w_start : cut_w_end, c]\n",
    "                    \n",
    "                    if mode == \"max\":\n",
    "                        # 相当于将dA_prev中除了最大值处都变为0\n",
    "                        mask = create_mask_from_window(a_slice)\n",
    "                        dA_prev[i, cut_h_start : cut_h_end,\n",
    "                                  cut_w_start : cut_w_end, c] += np.multiply(mask, dA[i, h, w, c])\n",
    "                    elif mode == \"average\":\n",
    "                        # 获取当前过滤器pooling色块后的一个值\n",
    "                        da = dA[i, h, w, c]\n",
    "                        shape = (f,f)\n",
    "                        # 相当于将原来的像素值转变为品均值\n",
    "                        dA_prev[i,cut_h_start : cut_h_end,\n",
    "                                  cut_w_start : cut_w_end, c] += distribute_value(da,shape)\n",
    "    \n",
    "    #数据处理完毕，开始验证格式\n",
    "    assert(dA_prev.shape == A_prev.shape)\n",
    "    \n",
    "    return dA_prev"
   ]
  },
  {
   "cell_type": "code",
   "execution_count": 105,
   "metadata": {
    "scrolled": true
   },
   "outputs": [
    {
     "name": "stdout",
     "output_type": "stream",
     "text": [
      "mode = max\n",
      "mean of dA =  0.14571390272918056\n",
      "dA_prev[1,1] =  [[ 0.          0.        ]\n",
      " [ 5.05844394 -1.68282702]\n",
      " [ 0.          0.        ]]\n",
      "\n",
      "mode = average\n",
      "mean of dA =  0.14571390272918056\n",
      "dA_prev[1,1] =  [[ 0.08485462  0.2787552 ]\n",
      " [ 1.26461098 -0.25749373]\n",
      " [ 1.17975636 -0.53624893]]\n"
     ]
    }
   ],
   "source": [
    "# 测试\n",
    "np.random.seed(1)\n",
    "A_prev = np.random.randn(5, 5, 3, 2)\n",
    "hparameters = {\"stride\" : 1, \"f\": 2}\n",
    "A, cache = pool_forward(A_prev, hparameters)\n",
    "dA = np.random.randn(5, 4, 2, 2)\n",
    "\n",
    "dA_prev = pool_backward(dA, cache, mode = \"max\")\n",
    "print(\"mode = max\")\n",
    "print('mean of dA = ', np.mean(dA))\n",
    "print('dA_prev[1,1] = ', dA_prev[1,1])  \n",
    "print()\n",
    "dA_prev = pool_backward(dA, cache, mode = \"average\")\n",
    "print(\"mode = average\")\n",
    "print('mean of dA = ', np.mean(dA))\n",
    "print('dA_prev[1,1] = ', dA_prev[1,1]) "
   ]
  },
  {
   "cell_type": "markdown",
   "metadata": {},
   "source": [
    "## Tenserflow工具"
   ]
  },
  {
   "cell_type": "code",
   "execution_count": 106,
   "metadata": {},
   "outputs": [],
   "source": [
    "import math\n",
    "import numpy as np\n",
    "import h5py\n",
    "import matplotlib.pyplot as plt\n",
    "import matplotlib.image as mpimg\n",
    "import tensorflow as tf\n",
    "from tensorflow.python.framework import ops\n",
    "\n",
    "import cnn_utils\n",
    "\n",
    "%matplotlib inline\n",
    "np.random.seed(1)"
   ]
  },
  {
   "cell_type": "markdown",
   "metadata": {},
   "source": [
    "### 加载数据"
   ]
  },
  {
   "cell_type": "code",
   "execution_count": 109,
   "metadata": {},
   "outputs": [
    {
     "name": "stdout",
     "output_type": "stream",
     "text": [
      "y = 2\n"
     ]
    },
    {
     "data": {
      "image/png": "[encoded data removed]",
      "text/plain": [
       "<Figure size 432x288 with 1 Axes>"
      ]
     },
     "metadata": {
      "needs_background": "light"
     },
     "output_type": "display_data"
    }
   ],
   "source": [
    "X_train_orig , Y_train_orig , X_test_orig , Y_test_orig , classes = cnn_utils.load_dataset()\n",
    "index = 6\n",
    "plt.imshow(X_train_orig[index])\n",
    "print (\"y = \" + str(np.squeeze(Y_train_orig[:, index])))"
   ]
  },
  {
   "cell_type": "code",
   "execution_count": 110,
   "metadata": {},
   "outputs": [
    {
     "name": "stdout",
     "output_type": "stream",
     "text": [
      "number of training examples = 1080\n",
      "number of test examples = 120\n",
      "X_train shape: (1080, 64, 64, 3)\n",
      "Y_train shape: (1080, 6)\n",
      "X_test shape: (120, 64, 64, 3)\n",
      "Y_test shape: (120, 6)\n"
     ]
    }
   ],
   "source": [
    "X_train = X_train_orig/255.\n",
    "X_test = X_test_orig/255.\n",
    "Y_train = cnn_utils.convert_to_one_hot(Y_train_orig, 6).T\n",
    "Y_test = cnn_utils.convert_to_one_hot(Y_test_orig, 6).T\n",
    "print (\"number of training examples = \" + str(X_train.shape[0]))\n",
    "print (\"number of test examples = \" + str(X_test.shape[0]))\n",
    "print (\"X_train shape: \" + str(X_train.shape))\n",
    "print (\"Y_train shape: \" + str(Y_train.shape))\n",
    "print (\"X_test shape: \" + str(X_test.shape))\n",
    "print (\"Y_test shape: \" + str(Y_test.shape))\n"
   ]
  },
  {
   "cell_type": "markdown",
   "metadata": {},
   "source": [
    "### 构建模型"
   ]
  },
  {
   "cell_type": "code",
   "execution_count": 111,
   "metadata": {},
   "outputs": [],
   "source": [
    "# 创建占位符\n",
    "def create_placeholders(h, w, c, classes):\n",
    "    \"\"\"\n",
    "        参数：\n",
    "            h - 图像的高\n",
    "            w - 图像的宽\n",
    "            c - 图像的通道\n",
    "            classes - 模型最终索要分的类型\n",
    "\n",
    "        返回：\n",
    "            X - 输入图像的占位符\n",
    "            Y - 标签的占位符\n",
    "    \"\"\"\n",
    "    \n",
    "    X = tf.placeholder(tf.float32,[None, h, w, c])\n",
    "    Y = tf.placeholder(tf.float32,[None,classes])\n",
    "    \n",
    "    return X, Y"
   ]
  },
  {
   "cell_type": "code",
   "execution_count": 112,
   "metadata": {},
   "outputs": [
    {
     "name": "stdout",
     "output_type": "stream",
     "text": [
      "X = Tensor(\"Placeholder:0\", shape=(?, 64, 64, 3), dtype=float32)\n",
      "Y = Tensor(\"Placeholder_1:0\", shape=(?, 6), dtype=float32)\n"
     ]
    }
   ],
   "source": [
    "#测试\n",
    "X , Y = create_placeholders(64,64,3,6)\n",
    "print (\"X = \" + str(X))\n",
    "print (\"Y = \" + str(Y))"
   ]
  },
  {
   "cell_type": "code",
   "execution_count": 122,
   "metadata": {},
   "outputs": [],
   "source": [
    "# 初始化参数\n",
    "def initialize_params():\n",
    "    \"\"\"\n",
    "        初始化权重，W1和W2，固定初始化：\n",
    "        W1 [4,4,3,8]\n",
    "        W2 [2,2,8,16]\n",
    "        参数：\n",
    "            无\n",
    "        \n",
    "        返回：\n",
    "            params - 包括W1和W2的字典\n",
    "    \"\"\"\n",
    "    tf.set_random_seed(1)\n",
    "    \n",
    "    W1 = tf.get_variable(\"W1\",[4,4,3,8],initializer=tf.contrib.layers.xavier_initializer(seed=0))\n",
    "    W2 = tf.get_variable(\"W2\",[2,2,8,16],initializer=tf.contrib.layers.xavier_initializer(seed=0))\n",
    "    \n",
    "    parameters = {\"W1\" : W1, \"W2\" : W2}\n",
    "    \n",
    "    return parameters\n",
    "    "
   ]
  },
  {
   "cell_type": "code",
   "execution_count": 123,
   "metadata": {},
   "outputs": [
    {
     "name": "stdout",
     "output_type": "stream",
     "text": [
      "W1 = [ 0.00131723  0.1417614  -0.04434952  0.09197326  0.14984085 -0.03514394\n",
      " -0.06847463  0.05245192]\n",
      "W2 = [-0.08566415  0.17750949  0.11974221  0.16773748 -0.0830943  -0.08058\n",
      " -0.00577033 -0.14643836  0.24162132 -0.05857408 -0.19055021  0.1345228\n",
      " -0.22779644 -0.1601823  -0.16117483 -0.10286498]\n"
     ]
    }
   ],
   "source": [
    "# 测试\n",
    "tf.reset_default_graph()\n",
    "with tf.Session() as sess_test:\n",
    "    parameters = initialize_params()\n",
    "    init = tf.global_variables_initializer()\n",
    "    sess_test.run(init)\n",
    "    print(\"W1 = \" + str(parameters[\"W1\"].eval()[1,1,1]))\n",
    "    print(\"W2 = \" + str(parameters[\"W2\"].eval()[1,1,1]))\n",
    "    \n",
    "    sess_test.close()"
   ]
  },
  {
   "cell_type": "code",
   "execution_count": 126,
   "metadata": {},
   "outputs": [],
   "source": [
    "# 前向传播\n",
    "def forward_propagation(X,parameters):\n",
    "    \"\"\"\n",
    "        参数：\n",
    "            X - 输入的图片数据占位符\n",
    "            parameters - 过滤器的一些权重\n",
    "        \n",
    "        返回：\n",
    "            Z3 - 最后一次激活后的值\n",
    "    \"\"\"\n",
    "    \n",
    "    W1 = parameters[\"W1\"]\n",
    "    W2 = parameters[\"W2\"]\n",
    "    \n",
    "    # 第一层卷积\n",
    "    Z1 = tf.nn.conv2d(X, W1, strides=[1,1,1,1], padding=\"SAME\")\n",
    "    A1 = tf.nn.relu(Z1)\n",
    "    P1 = tf.nn.max_pool(A1, ksize=[1,8,8,1], strides=[1,8,8,1], padding=\"SAME\")\n",
    "    \n",
    "    # 第二层卷积\n",
    "    Z2 = tf.nn.conv2d(P1, W2, strides=[1,1,1,1], padding=\"SAME\")  \n",
    "    A2 = tf.nn.relu(Z2)\n",
    "    P2 = tf.nn.max_pool(A2, ksize=[1,4,4,1],strides=[1,4,4,1], padding=\"SAME\")\n",
    "    \n",
    "    # 全连接层\n",
    "    P = tf.contrib.layers.flatten(P2)\n",
    "    Z3 = tf.contrib.layers.fully_connected(P,6,activation_fn=None)\n",
    "    \n",
    "    return Z3"
   ]
  },
  {
   "cell_type": "code",
   "execution_count": 132,
   "metadata": {},
   "outputs": [
    {
     "name": "stdout",
     "output_type": "stream",
     "text": [
      "Z3 = [[ 1.4416982  -0.24909668  5.4504995  -0.2618962  -0.20669872  1.3654671 ]\n",
      " [ 1.4070847  -0.02573182  5.08928    -0.4866991  -0.4094069   1.2624853 ]]\n"
     ]
    }
   ],
   "source": [
    "# 测试\n",
    "tf.reset_default_graph()\n",
    "np.random.seed(1)\n",
    "\n",
    "with tf.Session() as sess_test:\n",
    "    X,Y = create_placeholders(64,64,3,6)\n",
    "    parameters = initialize_params()\n",
    "    Z3 = forward_propagation(X,parameters)\n",
    "    \n",
    "    init = tf.global_variables_initializer()\n",
    "    sess_test.run(init)\n",
    "    \n",
    "    a = sess_test.run(Z3,{X: np.random.randn(2,64,64,3), Y: np.random.randn(2,6)})\n",
    "    print(\"Z3 = \" + str(a))\n",
    "    \n",
    "    sess_test.close()\n"
   ]
  },
  {
   "cell_type": "code",
   "execution_count": 129,
   "metadata": {},
   "outputs": [],
   "source": [
    "# 计算成本\n",
    "def compute_cost(Z3,Y):\n",
    "    \"\"\"\n",
    "        参数：\n",
    "            Z3 - 正向传播最后一次激活后的值 \n",
    "            Y - 数据的标签\n",
    "            \n",
    "        返回：\n",
    "            cost - 这一批次计算的成本\n",
    "    \"\"\"\n",
    "    \n",
    "    cost = tf.reduce_mean(tf.nn.softmax_cross_entropy_with_logits(labels=Y, logits=Z3))\n",
    "    \n",
    "    return cost"
   ]
  },
  {
   "cell_type": "code",
   "execution_count": 133,
   "metadata": {},
   "outputs": [
    {
     "name": "stdout",
     "output_type": "stream",
     "text": [
      "cost = 4.6648703\n"
     ]
    }
   ],
   "source": [
    "# 测试\n",
    "tf.reset_default_graph()\n",
    "\n",
    "with tf.Session() as sess_test:\n",
    "    np.random.seed(1)\n",
    "    X,Y = create_placeholders(64,64,3,6)\n",
    "    parameters = initialize_params()\n",
    "    Z3 = forward_propagation(X,parameters)\n",
    "    cost = compute_cost(Z3,Y)\n",
    "    \n",
    "    init = tf.global_variables_initializer()\n",
    "    sess_test.run(init)\n",
    "    a = sess_test.run(cost,{X: np.random.randn(4,64,64,3), Y: np.random.randn(4,6)})\n",
    "    print(\"cost = \" + str(a))\n",
    "    \n",
    "    sess_test.close()"
   ]
  },
  {
   "cell_type": "code",
   "execution_count": 148,
   "metadata": {},
   "outputs": [],
   "source": [
    "# 构建模型\n",
    "def model(X_train, Y_train, X_test, Y_test, lr=0.009, batch_size=64, epochs=100, print_cost=True, is_plt=True ):\n",
    "    \n",
    "    \n",
    "    ops.reset_default_graph()  #能够重新运行模型而不覆盖tf变量\n",
    "    tf.set_random_seed(1)    \n",
    "    seed = 3                 #指定numpy的随机种子\n",
    "    m, h, w, c = X_train.shape\n",
    "    m, classes = Y_train.shape\n",
    "    costs = []\n",
    "    \n",
    "    # 构建tensorflow的图\n",
    "    X,Y = create_placeholders(h,w,c,classes)\n",
    "    parameters = initailize_params()\n",
    "    Z3 = forward_propagation(X, parameters)\n",
    "    cost = compute_cost(Z3, Y)\n",
    "    optimizer = tf.train.AdamOptimizer(learning_rate=lr).minimize(cost)\n",
    "    init = tf.global_variables_initializer()\n",
    "    \n",
    "    # 运行会话\n",
    "    with tf.Session() as sess:\n",
    "        sess.run(init)\n",
    "        \n",
    "        # 开始训练\n",
    "        for i in range(epochs):\n",
    "            seed = seed + 1\n",
    "            epoch_cost = 0\n",
    "            num_batch = m //batch_size\n",
    "            batches = cnn_utils.random_mini_batches(X_train,Y_train,batch_size,seed)\n",
    "            for batch in batches:\n",
    "                x_batch,y_batch = batch\n",
    "                _, batch_cost = sess.run([optimizer,cost],feed_dict={X:x_batch,Y:y_batch})\n",
    "                epoch_cost += batch_cost / num_batch\n",
    "            costs.append(epoch_cost)\n",
    "            if i%5 == 0:\n",
    "                if print_cost:\n",
    "                    print(\"第%d次迭代的损失为：%f\"%(i,epoch_cost))\n",
    "        \n",
    "        if is_plt:\n",
    "            plt.plot(costs)\n",
    "            plt.title(\"Cost_Learning rate({})\".format(lr))\n",
    "            plt.xlabel(\"Epochs\")\n",
    "            plt.ylabel(\"Cost\")\n",
    "            plt.show()\n",
    "        \n",
    "        acc_list = tf.equal(tf.argmax(Z3,1),tf.argmax(Y,1))\n",
    "        accuracy = tf.reduce_mean(tf.cast(acc_list,tf.float32))\n",
    "        \n",
    "        train_accuracy = accuracy.eval({X: X_train, Y: Y_train})\n",
    "        test_accuary = accuracy.eval({X: X_test, Y: Y_test})\n",
    "        \n",
    "        print(\"训练集准确度：\" + str(train_accuracy))\n",
    "        print(\"测试集准确度：\" + str(test_accuary))\n",
    "        \n",
    "        return (train_accuracy,test_accuary,parameters)\n",
    "    "
   ]
  },
  {
   "cell_type": "code",
   "execution_count": 150,
   "metadata": {},
   "outputs": [
    {
     "name": "stdout",
     "output_type": "stream",
     "text": [
      "第0次迭代的损失为：1.921332\n",
      "第5次迭代的损失为：1.904156\n",
      "第10次迭代的损失为：1.904309\n",
      "第15次迭代的损失为：1.904477\n",
      "第20次迭代的损失为：1.901876\n",
      "第25次迭代的损失为：1.784077\n",
      "第30次迭代的损失为：1.681053\n",
      "第35次迭代的损失为：1.618208\n",
      "第40次迭代的损失为：1.597973\n",
      "第45次迭代的损失为：1.567265\n",
      "第50次迭代的损失为：1.553831\n",
      "第55次迭代的损失为：1.499270\n",
      "第60次迭代的损失为：1.443608\n",
      "第65次迭代的损失为：1.273833\n",
      "第70次迭代的损失为：1.183423\n",
      "第75次迭代的损失为：1.140219\n",
      "第80次迭代的损失为：1.099051\n",
      "第85次迭代的损失为：1.095431\n",
      "第90次迭代的损失为：1.040229\n",
      "第95次迭代的损失为：1.010761\n",
      "第100次迭代的损失为：1.004779\n",
      "第105次迭代的损失为：0.946490\n",
      "第110次迭代的损失为：0.943555\n",
      "第115次迭代的损失为：0.921020\n",
      "第120次迭代的损失为：0.915435\n",
      "第125次迭代的损失为：0.906684\n",
      "第130次迭代的损失为：0.891546\n",
      "第135次迭代的损失为：0.863266\n",
      "第140次迭代的损失为：0.836714\n",
      "第145次迭代的损失为：0.827909\n",
      "第150次迭代的损失为：0.832611\n",
      "第155次迭代的损失为：0.792830\n",
      "第160次迭代的损失为：0.787734\n",
      "第165次迭代的损失为：0.782323\n",
      "第170次迭代的损失为：0.838590\n",
      "第175次迭代的损失为：0.821936\n",
      "第180次迭代的损失为：0.809865\n",
      "第185次迭代的损失为：0.758370\n",
      "第190次迭代的损失为：0.744009\n",
      "第195次迭代的损失为：0.756832\n",
      "第200次迭代的损失为：0.765710\n",
      "第205次迭代的损失为：0.736523\n",
      "第210次迭代的损失为：0.748534\n",
      "第215次迭代的损失为：0.708796\n",
      "第220次迭代的损失为：0.704896\n",
      "第225次迭代的损失为：0.710206\n",
      "第230次迭代的损失为：0.694231\n",
      "第235次迭代的损失为：0.698420\n",
      "第240次迭代的损失为：0.684959\n",
      "第245次迭代的损失为：0.699671\n",
      "第250次迭代的损失为：0.698949\n",
      "第255次迭代的损失为：0.689550\n",
      "第260次迭代的损失为：0.675891\n",
      "第265次迭代的损失为：0.740416\n",
      "第270次迭代的损失为：0.651372\n",
      "第275次迭代的损失为：0.668482\n",
      "第280次迭代的损失为：0.671539\n",
      "第285次迭代的损失为：0.651641\n",
      "第290次迭代的损失为：0.654303\n",
      "第295次迭代的损失为：0.652510\n",
      "第300次迭代的损失为：0.663489\n",
      "第305次迭代的损失为：0.641927\n",
      "第310次迭代的损失为：0.647174\n",
      "第315次迭代的损失为：0.666991\n",
      "第320次迭代的损失为：0.644093\n",
      "第325次迭代的损失为：0.654941\n",
      "第330次迭代的损失为：0.625137\n",
      "第335次迭代的损失为：0.632084\n",
      "第340次迭代的损失为：0.631335\n",
      "第345次迭代的损失为：0.647074\n",
      "第350次迭代的损失为：0.647934\n",
      "第355次迭代的损失为：0.611235\n",
      "第360次迭代的损失为：0.654704\n",
      "第365次迭代的损失为：0.636038\n",
      "第370次迭代的损失为：0.606647\n",
      "第375次迭代的损失为：0.622562\n",
      "第380次迭代的损失为：0.609539\n",
      "第385次迭代的损失为：0.622742\n",
      "第390次迭代的损失为：0.615703\n",
      "第395次迭代的损失为：0.617785\n",
      "第400次迭代的损失为：0.592815\n",
      "第405次迭代的损失为：0.618413\n",
      "第410次迭代的损失为：0.656406\n",
      "第415次迭代的损失为：0.622298\n",
      "第420次迭代的损失为：0.619938\n",
      "第425次迭代的损失为：0.612457\n",
      "第430次迭代的损失为：0.604065\n",
      "第435次迭代的损失为：0.598574\n",
      "第440次迭代的损失为：0.603512\n",
      "第445次迭代的损失为：0.624056\n",
      "第450次迭代的损失为：0.602713\n",
      "第455次迭代的损失为：0.629425\n",
      "第460次迭代的损失为：0.582492\n",
      "第465次迭代的损失为：0.645949\n",
      "第470次迭代的损失为：0.580839\n",
      "第475次迭代的损失为：0.602613\n",
      "第480次迭代的损失为：0.583530\n",
      "第485次迭代的损失为：0.636163\n",
      "第490次迭代的损失为：0.605988\n",
      "第495次迭代的损失为：0.567282\n"
     ]
    },
    {
     "data": {
      "image/png": "[encoded data removed]",
      "text/plain": [
       "<Figure size 432x288 with 1 Axes>"
      ]
     },
     "metadata": {
      "needs_background": "light"
     },
     "output_type": "display_data"
    },
    {
     "name": "stdout",
     "output_type": "stream",
     "text": [
      "训练集准确度：0.8046296\n",
      "测试集准确度：0.725\n"
     ]
    }
   ],
   "source": [
    "_, _, parameters = model(X_train, Y_train, X_test, Y_test,epochs=500)"
   ]
  }
 ],
 "metadata": {
  "kernelspec": {
   "display_name": "learn",
   "language": "python",
   "name": "learn"
  },
  "language_info": {
   "codemirror_mode": {
    "name": "ipython",
    "version": 3
   },
   "file_extension": ".py",
   "mimetype": "text/x-python",
   "name": "python",
   "nbconvert_exporter": "python",
   "pygments_lexer": "ipython3",
   "version": "3.6.3"
  }
 },
 "nbformat": 4,
 "nbformat_minor": 4
}
